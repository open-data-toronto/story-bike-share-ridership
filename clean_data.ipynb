{
 "cells": [
  {
   "cell_type": "code",
   "execution_count": 1,
   "metadata": {},
   "outputs": [
    {
     "name": "stderr",
     "output_type": "stream",
     "text": [
      "/home/dottyz/miniconda3/envs/open-data/lib/python3.7/site-packages/fuzzywuzzy/fuzz.py:11: UserWarning: Using slow pure-python SequenceMatcher. Install python-Levenshtein to remove this warning\n",
      "  warnings.warn('Using slow pure-python SequenceMatcher. Install python-Levenshtein to remove this warning')\n"
     ]
    }
   ],
   "source": [
    "from datetime import timedelta\n",
    "from fuzzywuzzy import fuzz\n",
    "\n",
    "import matplotlib.pyplot as plt\n",
    "import pandas as pd\n",
    "import requests\n",
    "import seaborn as sns\n",
    "\n",
    "import json\n",
    "import os"
   ]
  },
  {
   "cell_type": "code",
   "execution_count": 2,
   "metadata": {},
   "outputs": [],
   "source": [
    "r = requests.get('https://tor.publicbikesystem.net/ube/gbfs/v1/en/station_information')\n",
    "bikeshare_stations = json.loads(r.content)['data']['stations']\n",
    "bikeshare_stations = pd.DataFrame(bikeshare_stations)[['station_id', 'name', 'lat', 'lon']].astype({\n",
    "    'station_id': 'float64',\n",
    "})\n",
    "\n",
    "bikeshare_stations.to_csv('./data/bikeshare_stations.csv', index=False)"
   ]
  },
  {
   "cell_type": "code",
   "execution_count": 3,
   "metadata": {},
   "outputs": [],
   "source": [
    "date_formats = {\n",
    "    'Bikeshare Ridership (2017 Q1).csv': ['%d/%m/%Y %H:%M', -4],\n",
    "    'Bikeshare Ridership (2017 Q2).csv': ['%d/%m/%Y %H:%M', -4],\n",
    "    'Bikeshare Ridership (2017 Q3).csv': ['%m/%d/%Y %H:%M', 0],\n",
    "    'Bikeshare Ridership (2017 Q4).csv': ['%m/%d/%y %H:%M:%S', 0],\n",
    "}\n",
    "\n",
    "df = pd.DataFrame()\n",
    "for fn, fmt in date_formats.items():\n",
    "    tmp = pd.read_csv(os.path.join('./data', fn))\n",
    "    tmp['trip_start_time'] = pd.to_datetime(tmp['trip_start_time'], format=fmt[0], errors='coerce')\n",
    "    tmp['trip_start_time'] = tmp['trip_start_time'] + timedelta(hours=fmt[1])\n",
    "\n",
    "    df = pd.concat([df, tmp], sort=False).reset_index(drop=True)"
   ]
  },
  {
   "cell_type": "code",
   "execution_count": 4,
   "metadata": {},
   "outputs": [],
   "source": [
    "stations_start = df[['from_station_id', 'from_station_name']]\n",
    "stations_end = df[['to_station_id', 'to_station_name']]\n",
    "stations_start.columns = stations_end.columns = ['station_id', 'name']\n",
    "\n",
    "stations = pd.concat([stations_start, stations_end]).dropna(how='all').drop_duplicates().reset_index(drop=True)\n",
    "\n",
    "no_ids = stations[stations['station_id'].isnull()]"
   ]
  },
  {
   "cell_type": "code",
   "execution_count": 5,
   "metadata": {},
   "outputs": [
    {
     "name": "stdout",
     "output_type": "stream",
     "text": [
      "WARN: Michael Sweet Ave / St. Patrick St station could not be matched to an existing station\n",
      "WARN: Bremner Blvd / Spadina Ave station could not be matched to an existing station\n",
      "WARN: Bay St / Bloor St W station could not be matched to an existing station\n",
      "WARN: Bathurst St / Queens Quay W station could not be matched to an existing station\n",
      "WARN: Wellesley St / Queen's Park Cres station could not be matched to an existing station\n",
      "WARN: Davenport Rd / Bedford Rd station could not be matched to an existing station\n",
      "WARN: Victoria St / Gould St (Ryerson University) station could not be matched to an existing station\n",
      "WARN: Woodbine Subway Green P (Cedarvale Ave) station could not be matched to an existing station\n",
      "WARN: Stephenson Ave / Main St station could not be matched to an existing station\n",
      "WARN: Roxton Rd / College St station could not be matched to an existing station\n",
      "WARN: Base Station station could not be matched to an existing station\n",
      "WARN: Fringe Next Stage - 7219 station could not be matched to an existing station\n"
     ]
    }
   ],
   "source": [
    "for idx, miss in no_ids.iterrows():\n",
    "    max_score = 0\n",
    "    \n",
    "    for i, exist in bikeshare_stations[['station_id', 'name']].iterrows():\n",
    "        score = fuzz.ratio(miss['name'], exist['name'])\n",
    "        \n",
    "        if score > 80 and score > max_score:\n",
    "            max_score = score\n",
    "            no_ids.at[idx, 'station_id'] = exist['station_id']\n",
    "    \n",
    "    if max_score <= 80:\n",
    "        print('WARN: {0} station could not be matched to an existing station'.format(miss['name']))\n",
    "\n",
    "no_ids = no_ids.dropna()"
   ]
  },
  {
   "cell_type": "code",
   "execution_count": 6,
   "metadata": {},
   "outputs": [],
   "source": [
    "stations = pd.concat([stations[~stations['station_id'].isnull()], no_ids])\\\n",
    "             .merge(bikeshare_stations[['station_id', 'lat', 'lon']], how='left', on='station_id')\\\n",
    "             .drop_duplicates()"
   ]
  },
  {
   "cell_type": "code",
   "execution_count": 7,
   "metadata": {},
   "outputs": [],
   "source": [
    "df = df.merge(stations, how='inner', left_on='from_station_name', right_on='name') \\\n",
    "       .merge(stations, how='inner', left_on='to_station_name', right_on='name', suffixes=['_from', '_to']) \\\n",
    "       .drop_duplicates()\n",
    "\n",
    "df = df[[x for x in df.columns if not x.endswith('_station_id') and not x.endswith('_station_name') and x != 'trip_stop_time']]"
   ]
  },
  {
   "cell_type": "code",
   "execution_count": 8,
   "metadata": {},
   "outputs": [
    {
     "data": {
      "image/png": "[encoded data removed]",
      "text/plain": [
       "<Figure size 720x720 with 1 Axes>"
      ]
     },
     "metadata": {
      "needs_background": "light"
     },
     "output_type": "display_data"
    }
   ],
   "source": [
    "fig, ax = plt.subplots(1, 1, figsize=(10, 10))\n",
    "\n",
    "for user in df['user_type'].unique():\n",
    "    sns.distplot(df[df['user_type']==user]['trip_duration_seconds'], hist=False, ax=ax)\n",
    "\n",
    "plt.savefig('./visualization/raw_distributions.png')"
   ]
  },
  {
   "cell_type": "code",
   "execution_count": 9,
   "metadata": {},
   "outputs": [
    {
     "data": {
      "text/plain": [
       "(1463724, 12)"
      ]
     },
     "execution_count": 9,
     "metadata": {},
     "output_type": "execute_result"
    }
   ],
   "source": [
    "df.shape"
   ]
  },
  {
   "cell_type": "code",
   "execution_count": 10,
   "metadata": {},
   "outputs": [],
   "source": [
    "df = df[(df['trip_duration_seconds']>=60)]"
   ]
  },
  {
   "cell_type": "code",
   "execution_count": 11,
   "metadata": {},
   "outputs": [
    {
     "data": {
      "text/html": [
       "<div>\n",
       "<style scoped>\n",
       "    .dataframe tbody tr th:only-of-type {\n",
       "        vertical-align: middle;\n",
       "    }\n",
       "\n",
       "    .dataframe tbody tr th {\n",
       "        vertical-align: top;\n",
       "    }\n",
       "\n",
       "    .dataframe thead th {\n",
       "        text-align: right;\n",
       "    }\n",
       "</style>\n",
       "<table border=\"1\" class=\"dataframe\">\n",
       "  <thead>\n",
       "    <tr style=\"text-align: right;\">\n",
       "      <th></th>\n",
       "      <th>trip_id</th>\n",
       "      <th>trip_duration_seconds</th>\n",
       "      <th>station_id_from</th>\n",
       "      <th>lat_from</th>\n",
       "      <th>lon_from</th>\n",
       "      <th>station_id_to</th>\n",
       "      <th>lat_to</th>\n",
       "      <th>lon_to</th>\n",
       "    </tr>\n",
       "  </thead>\n",
       "  <tbody>\n",
       "    <tr>\n",
       "      <th>count</th>\n",
       "      <td>1.433950e+06</td>\n",
       "      <td>1.433950e+06</td>\n",
       "      <td>1.433950e+06</td>\n",
       "      <td>1.426982e+06</td>\n",
       "      <td>1.426982e+06</td>\n",
       "      <td>1.433950e+06</td>\n",
       "      <td>1.427302e+06</td>\n",
       "      <td>1.427302e+06</td>\n",
       "    </tr>\n",
       "    <tr>\n",
       "      <th>mean</th>\n",
       "      <td>1.544960e+06</td>\n",
       "      <td>1.041265e+03</td>\n",
       "      <td>7.094193e+03</td>\n",
       "      <td>4.365376e+01</td>\n",
       "      <td>-7.939064e+01</td>\n",
       "      <td>7.093312e+03</td>\n",
       "      <td>4.365293e+01</td>\n",
       "      <td>-7.939006e+01</td>\n",
       "    </tr>\n",
       "    <tr>\n",
       "      <th>std</th>\n",
       "      <td>4.792596e+05</td>\n",
       "      <td>9.962779e+03</td>\n",
       "      <td>7.632587e+01</td>\n",
       "      <td>1.065283e-02</td>\n",
       "      <td>2.013269e-02</td>\n",
       "      <td>7.607456e+01</td>\n",
       "      <td>1.029167e-02</td>\n",
       "      <td>2.028006e-02</td>\n",
       "    </tr>\n",
       "    <tr>\n",
       "      <th>min</th>\n",
       "      <td>7.123820e+05</td>\n",
       "      <td>6.000000e+01</td>\n",
       "      <td>7.000000e+03</td>\n",
       "      <td>4.362671e+01</td>\n",
       "      <td>-7.947657e+01</td>\n",
       "      <td>7.000000e+03</td>\n",
       "      <td>4.362671e+01</td>\n",
       "      <td>-7.947657e+01</td>\n",
       "    </tr>\n",
       "    <tr>\n",
       "      <th>25%</th>\n",
       "      <td>1.130734e+06</td>\n",
       "      <td>4.280000e+02</td>\n",
       "      <td>7.032000e+03</td>\n",
       "      <td>4.364561e+01</td>\n",
       "      <td>-7.940146e+01</td>\n",
       "      <td>7.033000e+03</td>\n",
       "      <td>4.364561e+01</td>\n",
       "      <td>-7.939960e+01</td>\n",
       "    </tr>\n",
       "    <tr>\n",
       "      <th>50%</th>\n",
       "      <td>1.545970e+06</td>\n",
       "      <td>6.660000e+02</td>\n",
       "      <td>7.068000e+03</td>\n",
       "      <td>4.365282e+01</td>\n",
       "      <td>-7.938758e+01</td>\n",
       "      <td>7.067000e+03</td>\n",
       "      <td>4.365212e+01</td>\n",
       "      <td>-7.938750e+01</td>\n",
       "    </tr>\n",
       "    <tr>\n",
       "      <th>75%</th>\n",
       "      <td>1.957823e+06</td>\n",
       "      <td>1.032000e+03</td>\n",
       "      <td>7.158000e+03</td>\n",
       "      <td>4.366197e+01</td>\n",
       "      <td>-7.937990e+01</td>\n",
       "      <td>7.158000e+03</td>\n",
       "      <td>4.366036e+01</td>\n",
       "      <td>-7.937988e+01</td>\n",
       "    </tr>\n",
       "    <tr>\n",
       "      <th>max</th>\n",
       "      <td>2.383646e+06</td>\n",
       "      <td>6.382030e+06</td>\n",
       "      <td>7.289000e+03</td>\n",
       "      <td>4.369402e+01</td>\n",
       "      <td>-7.928898e+01</td>\n",
       "      <td>7.289000e+03</td>\n",
       "      <td>4.369402e+01</td>\n",
       "      <td>-7.928898e+01</td>\n",
       "    </tr>\n",
       "  </tbody>\n",
       "</table>\n",
       "</div>"
      ],
      "text/plain": [
       "            trip_id  trip_duration_seconds  station_id_from      lat_from  \\\n",
       "count  1.433950e+06           1.433950e+06     1.433950e+06  1.426982e+06   \n",
       "mean   1.544960e+06           1.041265e+03     7.094193e+03  4.365376e+01   \n",
       "std    4.792596e+05           9.962779e+03     7.632587e+01  1.065283e-02   \n",
       "min    7.123820e+05           6.000000e+01     7.000000e+03  4.362671e+01   \n",
       "25%    1.130734e+06           4.280000e+02     7.032000e+03  4.364561e+01   \n",
       "50%    1.545970e+06           6.660000e+02     7.068000e+03  4.365282e+01   \n",
       "75%    1.957823e+06           1.032000e+03     7.158000e+03  4.366197e+01   \n",
       "max    2.383646e+06           6.382030e+06     7.289000e+03  4.369402e+01   \n",
       "\n",
       "           lon_from  station_id_to        lat_to        lon_to  \n",
       "count  1.426982e+06   1.433950e+06  1.427302e+06  1.427302e+06  \n",
       "mean  -7.939064e+01   7.093312e+03  4.365293e+01 -7.939006e+01  \n",
       "std    2.013269e-02   7.607456e+01  1.029167e-02  2.028006e-02  \n",
       "min   -7.947657e+01   7.000000e+03  4.362671e+01 -7.947657e+01  \n",
       "25%   -7.940146e+01   7.033000e+03  4.364561e+01 -7.939960e+01  \n",
       "50%   -7.938758e+01   7.067000e+03  4.365212e+01 -7.938750e+01  \n",
       "75%   -7.937990e+01   7.158000e+03  4.366036e+01 -7.937988e+01  \n",
       "max   -7.928898e+01   7.289000e+03  4.369402e+01 -7.928898e+01  "
      ]
     },
     "execution_count": 11,
     "metadata": {},
     "output_type": "execute_result"
    }
   ],
   "source": [
    "df.describe()"
   ]
  },
  {
   "cell_type": "code",
   "execution_count": 12,
   "metadata": {},
   "outputs": [
    {
     "data": {
      "text/plain": [
       "(1433950, 12)"
      ]
     },
     "execution_count": 12,
     "metadata": {},
     "output_type": "execute_result"
    }
   ],
   "source": [
    "df.shape"
   ]
  },
  {
   "cell_type": "code",
   "execution_count": 12,
   "metadata": {},
   "outputs": [],
   "source": [
    "q1 = df['trip_duration_seconds'].quantile(0.25)\n",
    "q3 = df['trip_duration_seconds'].quantile(0.75)\n",
    "interquartile_range = q3 - q1\n",
    "\n",
    "df = df[~((df['trip_duration_seconds'] < (q1 - 1.5 * interquartile_range))|(df['trip_duration_seconds'] > (q3 + 1.5 * interquartile_range)))].reset_index(drop=True)"
   ]
  },
  {
   "cell_type": "code",
   "execution_count": 13,
   "metadata": {},
   "outputs": [
    {
     "data": {
      "text/plain": [
       "(1351116, 12)"
      ]
     },
     "execution_count": 13,
     "metadata": {},
     "output_type": "execute_result"
    }
   ],
   "source": [
    "df.shape"
   ]
  },
  {
   "cell_type": "code",
   "execution_count": 14,
   "metadata": {},
   "outputs": [],
   "source": [
    "df.to_csv('./data/bikeshare_ridership.csv', index=False)"
   ]
  },
  {
   "cell_type": "code",
   "execution_count": null,
   "metadata": {},
   "outputs": [],
   "source": []
  }
 ],
 "metadata": {
  "kernelspec": {
   "display_name": "Python 3",
   "language": "python",
   "name": "python3"
  },
  "language_info": {
   "codemirror_mode": {
    "name": "ipython",
    "version": 3
   },
   "file_extension": ".py",
   "mimetype": "text/x-python",
   "name": "python",
   "nbconvert_exporter": "python",
   "pygments_lexer": "ipython3",
   "version": "3.7.3"
  }
 },
 "nbformat": 4,
 "nbformat_minor": 2
}
