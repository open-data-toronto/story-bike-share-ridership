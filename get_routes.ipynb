{
 "cells": [
  {
   "cell_type": "code",
   "execution_count": 3,
   "metadata": {},
   "outputs": [],
   "source": [
    "import json\n",
    "import os\n",
    "\n",
    "import googlemaps\n",
    "import numpy as np\n",
    "import pandas as pd"
   ]
  },
  {
   "cell_type": "code",
   "execution_count": 7,
   "metadata": {},
   "outputs": [],
   "source": [
    "with open('./apikeys.json', 'r') as f:\n",
    "    apikeys = json.load(f)\n",
    "\n",
    "map_client = googlemaps.Client(key=apikeys['google_maps'])"
   ]
  },
  {
   "cell_type": "code",
   "execution_count": 2,
   "metadata": {},
   "outputs": [],
   "source": [
    "data = pd.read_csv('./data/bikeshare_ridership_2017.csv')\n",
    "\n",
    "trips = data.groupby(['route_id', 'station_id_from', 'station_id_to', 'lat_from', 'lon_from', 'lat_to', 'lon_to'])['trip_id'].nunique().reset_index()"
   ]
  },
  {
   "cell_type": "code",
   "execution_count": 3,
   "metadata": {},
   "outputs": [],
   "source": [
    "raw_routes = []\n",
    "with open(os.path.join('./data/bikeshare_routes.json'), 'r') as f:\n",
    "    raw_routes = json.load(f)"
   ]
  },
  {
   "cell_type": "code",
   "execution_count": 4,
   "metadata": {},
   "outputs": [],
   "source": [
    "df = trips[~trips['route_id'].isin([r['key'] for r in raw_routes])]"
   ]
  },
  {
   "cell_type": "code",
   "execution_count": 5,
   "metadata": {},
   "outputs": [
    {
     "name": "stderr",
     "output_type": "stream",
     "text": [
      "100%|██████████| 45/45 [00:13<00:00,  3.90it/s]\n"
     ]
    }
   ],
   "source": [
    "for i, r in tqdm(df.head(1400).iterrows(), total=df.head(1400).shape[0]):\n",
    "    path = { 'key': r['route_id'] }\n",
    "\n",
    "    if r['station_id_from'] == r['station_id_to']:\n",
    "        path['routes'] = []\n",
    "    else:\n",
    "        path['routes'] = map_client.directions(\n",
    "                            '{lat},{lon}'.format(lat=np.round(r['lat_from'], 6), lon=np.round(r['lon_from'], 6)), \n",
    "                            '{lat},{lon}'.format(lat=np.round(r['lat_to'], 6), lon=np.round(r['lon_to'], 6)), \n",
    "                            mode='bicycling'\n",
    "                         )\n",
    "\n",
    "    raw_routes.append(path)"
   ]
  },
  {
   "cell_type": "code",
   "execution_count": 6,
   "metadata": {},
   "outputs": [],
   "source": [
    "with open('./data/bikeshare_routes.json', 'w') as f:\n",
    "    json.dump(raw_routes, f)"
   ]
  },
  {
   "cell_type": "code",
   "execution_count": 7,
   "metadata": {},
   "outputs": [
    {
     "data": {
      "text/plain": [
       "(0, 8)"
      ]
     },
     "execution_count": 7,
     "metadata": {},
     "output_type": "execute_result"
    }
   ],
   "source": [
    "trips[~trips['route_id'].isin([r['key'] for r in raw_routes])].shape"
   ]
  },
  {
   "cell_type": "code",
   "execution_count": 8,
   "metadata": {},
   "outputs": [],
   "source": [
    "# routes = []\n",
    "# for r in raw_routes:\n",
    "#     if len(r['routes']) < 1:\n",
    "#         continue\n",
    "        \n",
    "#     directions = r['routes'][0]['legs'][0]\n",
    "#     tmp = {\n",
    "#         'route_id': r['key'],\n",
    "#         'distance': directions['distance']['value'],\n",
    "#         'duration': directions['duration']['value'],\n",
    "#         'steps': []\n",
    "#     }\n",
    "    \n",
    "#     for s in directions['steps']:\n",
    "#         tmp['steps'].append([\n",
    "#             s['start_location']['lat'],\n",
    "#             s['start_location']['lng']\n",
    "#         ])\n",
    "        \n",
    "#     tmp['steps'].append([\n",
    "#         directions['steps'][-1]['end_location']['lat'],\n",
    "#         directions['steps'][-1]['end_location']['lng']\n",
    "#     ])\n",
    "    \n",
    "#     routes.append(tmp)\n",
    "    \n",
    "# routes = pd.DataFrame(routes)\n",
    "# routes.to_csv('./data/bikeshare_routes.csv', index=False)"
   ]
  },
  {
   "cell_type": "code",
   "execution_count": null,
   "metadata": {},
   "outputs": [],
   "source": []
  }
 ],
 "metadata": {
  "kernelspec": {
   "display_name": "Python 3",
   "language": "python",
   "name": "python3"
  },
  "language_info": {
   "codemirror_mode": {
    "name": "ipython",
    "version": 3
   },
   "file_extension": ".py",
   "mimetype": "text/x-python",
   "name": "python",
   "nbconvert_exporter": "python",
   "pygments_lexer": "ipython3",
   "version": "3.7.3"
  }
 },
 "nbformat": 4,
 "nbformat_minor": 2
}
